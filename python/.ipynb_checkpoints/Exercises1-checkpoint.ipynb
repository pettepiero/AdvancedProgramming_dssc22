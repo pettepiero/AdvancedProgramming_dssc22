{
 "cells": [
  {
   "cell_type": "markdown",
   "metadata": {},
   "source": [
    "### **Exercise 1:**\n",
    "The Recamán sequence is a famous sequence invented by the Colombian mathematician, Bernardo Recamán Santos. It is defined by the following algorithm, starting at $a_0=0$:\n",
    "\n",
    "$ a_n=a_{n-1}−n$ if $a_{n-1}-n > 0  $ and has not already appeared in the sequence; \n",
    "\n",
    "$ a_n=a_{n−1}+n$ otherwise\n",
    "\n",
    "Write a function that returns the first N elements of this sequence."
   ]
  },
  {
   "cell_type": "code",
   "execution_count": 30,
   "metadata": {},
   "outputs": [
    {
     "name": "stdout",
     "output_type": "stream",
     "text": [
      "[0, 1, 3, 6, 2, 7, 13, 20, 12, 21, 11, 22, 10, 23, 9]\n"
     ]
    }
   ],
   "source": [
    "\n",
    "#add a set in which you check if temp is present.\n",
    "#since there are no repetitions it should be faster\n",
    "def recaman(n):\n",
    "    \"\"\" Recaman sequence. Returns a_n = a_(n-1) - n\n",
    "    if a_(n-1) - n > 0 and has not already appeared in the sequence,\n",
    "    a_n = a_(n-1) + n otherwise, with a0 = 0 \"\"\"\n",
    "    result=[]\n",
    "    result.append(0)\n",
    "    for i in range(1,n):\n",
    "        temp = result[i-1] - i    \n",
    "        if temp > 0 and not temp in result:\n",
    "            result.append(temp)\n",
    "        else:\n",
    "            result.append(result[i-1] + i)\n",
    "    return result\n",
    "\n",
    "seq = recaman(15)\n",
    "print(seq)"
   ]
  },
  {
   "cell_type": "markdown",
   "metadata": {},
   "source": [
    "### **Exercise 2:**\n",
    "Write a function to solve a quadratic equation."
   ]
  },
  {
   "cell_type": "code",
   "execution_count": 52,
   "metadata": {},
   "outputs": [
    {
     "name": "stdout",
     "output_type": "stream",
     "text": [
      "-20\n",
      "(-0.5+1.118033988749895j) (-0.5-1.118033988749895j)\n"
     ]
    }
   ],
   "source": [
    "import cmath\n",
    "\n",
    "def solve_eq(a, b, c):\n",
    "    if a==0:\n",
    "        print('Not a quadratic equation')\n",
    "        return None, None\n",
    "    delta = (b**2)-4*a*c\n",
    "    print(delta)\n",
    "    sol1 = (-b + cmath.sqrt(delta))/(2*a)\n",
    "    sol2 = (-b - cmath.sqrt(delta))/(2*a)\n",
    "    return sol1, sol2\n",
    "        \n",
    "s1, s2 = solve_eq(2, 2, 3)\n",
    "print(s1, s2)"
   ]
  },
  {
   "cell_type": "markdown",
   "metadata": {},
   "source": [
    "### **Exercise 3**\n",
    "Print the list `mylist` sorted in descending order. The original list should not be modified\n"
   ]
  },
  {
   "cell_type": "code",
   "execution_count": 57,
   "metadata": {},
   "outputs": [
    {
     "name": "stdout",
     "output_type": "stream",
     "text": [
      "[234, 89, 77, 11, 1, 0, -99, -748]\n",
      "[1, -99, 89, 0, 234, 77, -748, 11]\n"
     ]
    }
   ],
   "source": [
    "mylist=[1,-99,89,0,234,77,-748,11]\n",
    "print(sorted(mylist)[::-1])\n",
    "print(mylist)"
   ]
  },
  {
   "cell_type": "markdown",
   "metadata": {},
   "source": [
    "### **Exercise 4:**\n",
    "Given 2 lists, produce a list containing common items between the two."
   ]
  },
  {
   "cell_type": "code",
   "execution_count": 63,
   "metadata": {},
   "outputs": [
    {
     "name": "stdout",
     "output_type": "stream",
     "text": [
      "[9, 'yes']\n",
      "<class 'list'>\n"
     ]
    }
   ],
   "source": [
    "list1=[3,56, 'oppr', 'yes', 88, 9]\n",
    "list2=['no', 'yes', 9, 77, 63, 8]\n",
    "\n",
    "set1=set(list1)\n",
    "set2=set(list2)\n",
    "\n",
    "set3=(set1 & set2)\n",
    "list3=[]\n",
    "for i in set3:\n",
    "    list3.append(i)\n",
    "print(list3)\n",
    "print(type(list3))"
   ]
  },
  {
   "cell_type": "markdown",
   "metadata": {},
   "source": [
    "### **Exercise 5:**\n",
    "Create a function that returns a list of all pairs of factors (as tuples) of a given number using list comprehension."
   ]
  },
  {
   "cell_type": "code",
   "execution_count": 85,
   "metadata": {},
   "outputs": [
    {
     "name": "stdout",
     "output_type": "stream",
     "text": [
      "[(1, 40), (2, 20), (4, 10), (5, 8), (8, 5), (10, 4), (20, 2), (40, 1)]\n"
     ]
    }
   ],
   "source": [
    "def function(num):\n",
    "    divisors=[]\n",
    "    for i in range(1, (num//2)+1):\n",
    "        if num % i == 0:\n",
    "            divisors.append(i)\n",
    "    divisors.append(num)\n",
    "    \n",
    "    result=[(x,y) for x in divisors for y in divisors if x*y == num ]\n",
    "    print(result)\n",
    "    \n",
    "function(40)"
   ]
  },
  {
   "cell_type": "markdown",
   "metadata": {},
   "source": [
    "### **Exercise 6:**\n",
    "Create a list of all numbers divisible by 3 and smaller than 1000 in 4 different ways:\n",
    " \n",
    " - naive way where you just create a list and append data in a loop\n",
    " - using list comprehension\n",
    " - slicing an existing list\n",
    " - directly with `range()`\n",
    "\n",
    "Time all of them."
   ]
  },
  {
   "cell_type": "code",
   "execution_count": 94,
   "metadata": {},
   "outputs": [
    {
     "name": "stdout",
     "output_type": "stream",
     "text": [
      "14.8 ns ± 0.199 ns per loop (mean ± std. dev. of 7 runs, 100,000,000 loops each)\n",
      "28.7 µs ± 677 ns per loop (mean ± std. dev. of 7 runs, 10,000 loops each)\n",
      "151 ns ± 9.75 ns per loop (mean ± std. dev. of 7 runs, 10,000,000 loops each)\n",
      "96.9 ns ± 1.05 ns per loop (mean ± std. dev. of 7 runs, 10,000,000 loops each)\n"
     ]
    }
   ],
   "source": [
    "%timeit result=[]\n",
    "for i in range(1, 1000):\n",
    "    if i % 3 == 0:\n",
    "        result.append(i)\n",
    "\n",
    "%timeit result=[x for x in range(1,1000) if x%3==0]\n",
    "\n",
    "firstlist = range(1, 1000)\n",
    "%timeit result=firstlist[1::3]\n",
    "\n",
    "%timeit result=range(1,1000, 3)"
   ]
  },
  {
   "cell_type": "markdown",
   "metadata": {},
   "source": [
    "### **Exercise 7:**\n",
    "Write a function to check if a string (containing spaces and capital letters, but no punctuation marks) is a palindrome (use help to see which functions are available for a string). \n"
   ]
  },
  {
   "cell_type": "code",
   "execution_count": 20,
   "metadata": {
    "tags": []
   },
   "outputs": [
    {
     "name": "stdout",
     "output_type": "stream",
     "text": [
      "yes\n"
     ]
    },
    {
     "ename": "AttributeError",
     "evalue": "'list' object has no attribute 'isalpha'",
     "output_type": "error",
     "traceback": [
      "\u001b[0;31m---------------------------------------------------------------------------\u001b[0m",
      "\u001b[0;31mAttributeError\u001b[0m                            Traceback (most recent call last)",
      "Cell \u001b[0;32mIn [20], line 12\u001b[0m\n\u001b[1;32m      9\u001b[0m             \u001b[38;5;28mprint\u001b[39m(string[i])\n\u001b[1;32m     10\u001b[0m             \u001b[38;5;28mprint\u001b[39m(\u001b[38;5;124m'\u001b[39m\u001b[38;5;124mbob\u001b[39m\u001b[38;5;124m'\u001b[39m)\n\u001b[0;32m---> 12\u001b[0m \u001b[43mcheck\u001b[49m\u001b[43m(\u001b[49m\u001b[38;5;124;43m\"\u001b[39;49m\u001b[38;5;124;43mohyeah\u001b[39;49m\u001b[38;5;124;43m\"\u001b[39;49m\u001b[43m)\u001b[49m\n",
      "Cell \u001b[0;32mIn [20], line 4\u001b[0m, in \u001b[0;36mcheck\u001b[0;34m(string1)\u001b[0m\n\u001b[1;32m      2\u001b[0m \u001b[38;5;28mprint\u001b[39m(\u001b[38;5;124m'\u001b[39m\u001b[38;5;124myes\u001b[39m\u001b[38;5;124m'\u001b[39m)\n\u001b[1;32m      3\u001b[0m newstring \u001b[38;5;241m=\u001b[39m string1\u001b[38;5;241m.\u001b[39msplit()\n\u001b[0;32m----> 4\u001b[0m \u001b[38;5;28mprint\u001b[39m(\u001b[43mnewstring\u001b[49m\u001b[38;5;241;43m.\u001b[39;49m\u001b[43misalpha\u001b[49m())\n\u001b[1;32m      5\u001b[0m \u001b[38;5;28;01mif\u001b[39;00m string1\u001b[38;5;241m.\u001b[39misalpha():\n\u001b[1;32m      6\u001b[0m     \u001b[38;5;28mprint\u001b[39m(\u001b[38;5;124m'\u001b[39m\u001b[38;5;124myes\u001b[39m\u001b[38;5;124m'\u001b[39m)\n",
      "\u001b[0;31mAttributeError\u001b[0m: 'list' object has no attribute 'isalpha'"
     ]
    }
   ],
   "source": [
    "def check(string1):\n",
    "    print('yes')\n",
    "    newstring = string1.split()\n",
    "    print(newstring.isalpha())\n",
    "    if string1.isalpha():\n",
    "        print('yes')\n",
    "        length = len(string1)\n",
    "        for i in length:\n",
    "            print(string[i])\n",
    "            print('bob')\n",
    "        \n",
    "check(\"ohyeah\")"
   ]
  },
  {
   "cell_type": "markdown",
   "metadata": {},
   "source": [
    "### **Exercise 8:**\n",
    "Write a function to find a character with a maximum number of occurences in a string. Return a tuple with that character and the number. You can ignore ties. Only use string's inbuilt functions and the function `max` (use help to see how to use it)."
   ]
  },
  {
   "cell_type": "code",
   "execution_count": 37,
   "metadata": {},
   "outputs": [
    {
     "data": {
      "text/plain": [
       "('o', 6)"
      ]
     },
     "execution_count": 37,
     "metadata": {},
     "output_type": "execute_result"
    }
   ],
   "source": [
    "def count(string):\n",
    "    length = len(string)\n",
    "    letters = set()\n",
    "    record = 0\n",
    "    for i in range(length):\n",
    "        letters.add(string[i])\n",
    "    lett_list = list(letters)\n",
    "    count_list = []\n",
    "    for x in lett_list:\n",
    "        count_list.append(string.count(x))\n",
    "    max_count = max(count_list)\n",
    "    max_i = count_list.index(max_count)\n",
    "    return (lett_list[max_i], max_count)\n",
    "count(\"assolo brombo siciacco mi diverto\")\n",
    "    "
   ]
  },
  {
   "cell_type": "markdown",
   "metadata": {},
   "source": [
    "### **Exercise 9:**\n",
    "Write a function that return the first N prime numbers using the Sieve of Eratosphenes algorithm\n",
    "\n",
    "https://en.wikipedia.org/wiki/Sieve_of_Eratosthenes"
   ]
  },
  {
   "cell_type": "code",
   "execution_count": null,
   "metadata": {},
   "outputs": [],
   "source": []
  }
 ],
 "metadata": {
  "kernelspec": {
   "display_name": "Python 3 (ipykernel)",
   "language": "python",
   "name": "python3"
  },
  "language_info": {
   "codemirror_mode": {
    "name": "ipython",
    "version": 3
   },
   "file_extension": ".py",
   "mimetype": "text/x-python",
   "name": "python",
   "nbconvert_exporter": "python",
   "pygments_lexer": "ipython3",
   "version": "3.10.8"
  }
 },
 "nbformat": 4,
 "nbformat_minor": 4
}
